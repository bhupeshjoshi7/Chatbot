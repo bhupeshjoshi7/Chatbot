{
 "cells": [
  {
   "cell_type": "code",
   "execution_count": 1,
   "metadata": {},
   "outputs": [
    {
     "name": "stdout",
     "output_type": "stream",
     "text": [
      "ok\n"
     ]
    }
   ],
   "source": [
    "print(\"ok\")"
   ]
  },
  {
   "cell_type": "code",
   "execution_count": 5,
   "metadata": {},
   "outputs": [
    {
     "name": "stderr",
     "output_type": "stream",
     "text": [
      "c:\\Users\\Bhupesh\\anaconda3\\envs\\chatbot\\lib\\site-packages\\pinecone\\data\\index.py:1: TqdmWarning: IProgress not found. Please update jupyter and ipywidgets. See https://ipywidgets.readthedocs.io/en/stable/user_install.html\n",
      "  from tqdm.autonotebook import tqdm\n"
     ]
    }
   ],
   "source": [
    "from langchain import PromptTemplate\n",
    "from langchain.chains import RetrievalQA\n",
    "from langchain.embeddings import HuggingFaceEmbeddings\n",
    "from langchain.vectorstores import Pinecone\n",
    "import pinecone\n",
    "from langchain.document_loaders import PyPDFLoader, DirectoryLoader\n",
    "from langchain.text_splitter import RecursiveCharacterTextSplitter\n",
    "from langchain.prompts import PromptTemplate\n",
    "from langchain.llms import CTransformers"
   ]
  },
  {
   "cell_type": "code",
   "execution_count": null,
   "metadata": {},
   "outputs": [],
   "source": [
    "PINECONE_API_KEY = \"c43ea8e4-984f-4bef-9346-5a192ee3f18a\""
   ]
  },
  {
   "cell_type": "code",
   "execution_count": 6,
   "metadata": {},
   "outputs": [],
   "source": [
    "def load_pdf(data):\n",
    "    loader = DirectoryLoader(data,\n",
    "                    glob=\"*.pdf\",\n",
    "                    loader_cls=PyPDFLoader)\n",
    "    \n",
    "    documents = loader.load()\n",
    "\n",
    "    return documents"
   ]
  },
  {
   "cell_type": "code",
   "execution_count": 10,
   "metadata": {},
   "outputs": [
    {
     "data": {
      "text/plain": [
       "[Document(page_content='Bhupesh Joshi\\n♂phone+91-+916397098353 /githubGitHub Profile\\n/envel⌢pebhupeshjoshi2k4@gmail.com /linkedinLinkedIn Profile\\nEducation\\n•Punjab Engineering College 2026\\nB.Tech in Computer Science Engineering with specialization in Data Science CGPA: 8.44\\n•HGSSVMIC Kusumkhera Haldwani\\nSenior Secondary Education Percentage: 94.6\\n•HGSSVMIC Kusumkhera Haldwani\\nSecondary Education Percentage: 95.8\\nProjects\\n•AgroGuardian July 2024\\nAI-Driven Plant Disease Diagnosis\\n–Tools & technologies used: Python, NumPy,Pandas, Matplotlib, Scikit-learn,TensorFlow, CNNs,PIL\\n∗Developed a plant disease prediction system using CNNs, enabling automated detection and diagnosis of plant\\ndiseases from images.\\n∗Implemented the model using TensorFlow, achieving accurate classification of various plant diseases.\\n∗Enhancedthesystem’sperformancethroughextensivedatapreprocessingandaugmentationtechniques,improving\\nthe model’s robustness and accuracy.\\n•Book Recommender System Jan 2024\\nRecommendation system using collaborative filtering\\n–Tools & technologies used: Python, Pandas, NumPy, Matplotlib, Seaborn,Jupyter Notebook\\n∗Developed a Machine Learning-based book recommendation system using collaborative filtering to enhance user\\nengagement and satisfaction.\\n∗Leveraged Jupyter Notebook for comprehensive data analysis and model development, resulting in a highly accu-\\nrate and user-friendly recommendation engine.\\n•ClubSpotPEC August 2024\\nStreamlining Club Participation and Application Handling at PEC\\n–Tools technologies used:MERN stack (MongoDB, Express.js, React.js, Node.js),ShadCN,Redux ,axios\\n∗Develop a streamlined platform that empowers students to easily discover and apply for clubs while providing\\nsecretaries with a unified management system.\\n∗Crafted \"ClubSpotPEC\" using the MERN stack with ShadCN UI, Axios, and Redux, offering a sleek interface\\nfor students to engage with clubs and a powerful backend was developed.\\n∗Resolved student difficulties in discovering clubs and streamlined application management for club secretaries.\\nTechnical Skills and Interests\\nLanguages : C++,Python,HTML,CSS,JavaScript,SQL\\nWeb Development :React.js,MongoDB,Node.js ,Express.js\\nComputer Fundamentals : Data Structures &Algorithms,OOPS,Operating System,DBMS,Computer Networks\\nMachine Learning : Numpy,Pandas,Seaborn,Scikit-learn,Tensorflow,Keras,Regression,Classification and clustering\\nAlgorithms\\nPositions of Responsibility\\n•Sub-Head, Alumni and Industry Relations Committee PECFEST Oct 2023- Nov 2023\\n-Organized career fairs, alumni talks, and industry workshops to foster collaboration and career developmentamong students.\\n•Training Class Representative, CDGC Jan 2024 - Present\\n-Act as a mediator between colleagues and placement office for smooth internship cycle .Member of organisingcommittee for various events.\\n•Cadet,NCC PEC Nov 2023- Present\\n-Mentored 50+ newly recruited students showcasing strong leadership skills .\\nAchievements\\n•Inspire Award by Govt. of India (DST) for meritorious student in High School 2019\\n•Awardfor being in top 1 percent in Senior Secondary 2021\\n•Solved200+ DSA questions on various coding platforms', metadata={'source': 'data\\\\ML.pdf', 'page': 0})]"
      ]
     },
     "execution_count": 10,
     "metadata": {},
     "output_type": "execute_result"
    }
   ],
   "source": [
    "extracted_data = load_pdf(\"data/\")\n"
   ]
  },
  {
   "cell_type": "code",
   "execution_count": null,
   "metadata": {},
   "outputs": [],
   "source": [
    "extracted_data"
   ]
  },
  {
   "cell_type": "code",
   "execution_count": null,
   "metadata": {},
   "outputs": [],
   "source": []
  },
  {
   "cell_type": "code",
   "execution_count": null,
   "metadata": {},
   "outputs": [],
   "source": []
  },
  {
   "cell_type": "code",
   "execution_count": null,
   "metadata": {},
   "outputs": [],
   "source": []
  },
  {
   "cell_type": "code",
   "execution_count": null,
   "metadata": {},
   "outputs": [],
   "source": []
  }
 ],
 "metadata": {
  "kernelspec": {
   "display_name": "chatbot",
   "language": "python",
   "name": "python3"
  },
  "language_info": {
   "codemirror_mode": {
    "name": "ipython",
    "version": 3
   },
   "file_extension": ".py",
   "mimetype": "text/x-python",
   "name": "python",
   "nbconvert_exporter": "python",
   "pygments_lexer": "ipython3",
   "version": "3.8.19"
  }
 },
 "nbformat": 4,
 "nbformat_minor": 2
}
